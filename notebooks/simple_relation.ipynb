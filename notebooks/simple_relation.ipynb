{
 "cells": [
  {
   "cell_type": "markdown",
   "metadata": {},
   "source": [
    "Relational model defined through a simple rule based approach implying a relation between consequential sentences and talkers"
   ]
  },
  {
   "cell_type": "code",
   "execution_count": 36,
   "metadata": {},
   "outputs": [],
   "source": [
    "import json\n",
    "MANE_SIX = [\"Spike\",\"Rainbow Dash\",\"Pinkie Pie\",\"Rarity\",\"Applejack\",\"Twilight Sparkle\"]\n",
    "TOP_TALKERS = MANE_SIX + [\"Tempest Shadow\",\"The Storm King\"]"
   ]
  },
  {
   "cell_type": "code",
   "execution_count": 8,
   "metadata": {},
   "outputs": [],
   "source": [
    "with open(\"../data.json\",\"r\") as f:\n",
    "    data = json.load(f)"
   ]
  },
  {
   "cell_type": "code",
   "execution_count": 20,
   "metadata": {},
   "outputs": [],
   "source": [
    "from dataclasses import dataclass\n",
    "\n",
    "@dataclass\n",
    "class MyLittleRelationship:\n",
    "    index: int\n",
    "    who: str\n",
    "    towards: str\n",
    "    emotion: str\n",
    "    sentence: str\n",
    "\n",
    "MLR = MyLittleRelationship"
   ]
  },
  {
   "cell_type": "code",
   "execution_count": 37,
   "metadata": {},
   "outputs": [],
   "source": [
    "relationships = []\n",
    "i = 1\n",
    "while i<len(data):\n",
    "    row = data[i]\n",
    "    prev = data[i - 1]\n",
    "    if row[\"character\"] in TOP_TALKERS and prev[\"character\"] in TOP_TALKERS and row[\"character\"] != prev[\"character\"]:\n",
    "        relationships.append(MLR(index=i, who=row[\"character\"], towards=prev[\"character\"], emotion=row[\"emotion\"], sentence=row[\"sentence\"]))\n",
    "    i += 1"
   ]
  },
  {
   "cell_type": "code",
   "execution_count": 17,
   "metadata": {},
   "outputs": [
    {
     "data": {
      "text/plain": [
       "808"
      ]
     },
     "execution_count": 17,
     "metadata": {},
     "output_type": "execute_result"
    }
   ],
   "source": [
    "len(data)"
   ]
  },
  {
   "cell_type": "code",
   "execution_count": 18,
   "metadata": {},
   "outputs": [
    {
     "data": {
      "text/plain": [
       "260"
      ]
     },
     "execution_count": 18,
     "metadata": {},
     "output_type": "execute_result"
    }
   ],
   "source": [
    "len(relationships)"
   ]
  },
  {
   "cell_type": "code",
   "execution_count": 25,
   "metadata": {},
   "outputs": [
    {
     "data": {
      "text/plain": [
       "[MyLittleRelationship(index=6, who='Spike', towards='Twilight Sparkle', emotion='approval', sentence='Okay, Twilight. Got all your charts and graphs.'),\n",
       " MyLittleRelationship(index=7, who='Twilight Sparkle', towards='Spike', emotion='nervousness', sentence=\"Oh, thank goodness you're here, Spike! I'm just so nervous about this meeting!\"),\n",
       " MyLittleRelationship(index=8, who='Spike', towards='Twilight Sparkle', emotion='curiosity', sentence=\"Whachoo talkin' 'bout?\"),\n",
       " MyLittleRelationship(index=9, who='Twilight Sparkle', towards='Spike', emotion='curiosity', sentence=\"[sighs] I'm about to ask the three most royal princesses of Equestria for a huge favor! What if they reject me?\"),\n",
       " MyLittleRelationship(index=10, who='Spike', towards='Twilight Sparkle', emotion='caring', sentence=\"It'll be fine. Just remember the most important thing.\"),\n",
       " MyLittleRelationship(index=11, who='Twilight Sparkle', towards='Spike', emotion='neutral', sentence='Smile?!'),\n",
       " MyLittleRelationship(index=12, who='Spike', towards='Twilight Sparkle', emotion='admiration', sentence=\"Eh... no. You're a Princess, too.\"),\n",
       " MyLittleRelationship(index=13, who='Twilight Sparkle', towards='Spike', emotion='admiration', sentence='Right! [exhales] Good morning, Princesses. Thank you all for seeing me. I have an idea that I think will make our Friendship Festival the most wonderful celebration Equestria has ever seen!'),\n",
       " MyLittleRelationship(index=18, who='Spike', towards='Twilight Sparkle', emotion='neutral', sentence='[humming fanfare]'),\n",
       " MyLittleRelationship(index=19, who='Twilight Sparkle', towards='Spike', emotion='optimism', sentence=\"Songbird Serenade's performance is not scheduled to start until after you begin the sunset. And based on my precise calculation, to get the very best lighting for the stage, Princess Celestia, I was hoping you could make sure the sun stays about 28.1º to the south, and, Princess Luna, if you could raise the moon 62º to the north at the same time, it would reflect the sunlight on the other side and really frame the entire stage perfectly!\"),\n",
       " MyLittleRelationship(index=22, who='Spike', towards='Twilight Sparkle', emotion='neutral', sentence='Presenting Songbird Serenade!'),\n",
       " MyLittleRelationship(index=28, who='Rainbow Dash', towards='Twilight Sparkle', emotion='approval', sentence='Yes!'),\n",
       " MyLittleRelationship(index=30, who='Pinkie Pie', towards='Rainbow Dash', emotion='neutral', sentence='[blowing up a balloon]'),\n",
       " MyLittleRelationship(index=35, who='Pinkie Pie', towards='Applejack', emotion='neutral', sentence='[screams]'),\n",
       " MyLittleRelationship(index=36, who='Applejack', towards='Pinkie Pie', emotion='curiosity', sentence=\"Anypony up for some free samples of my family's apple cider?\"),\n",
       " MyLittleRelationship(index=37, who='Rainbow Dash', towards='Applejack', emotion='gratitude', sentence='Ah! Thank you! Loved it!'),\n",
       " MyLittleRelationship(index=38, who='Rarity', towards='Rainbow Dash', emotion='neutral', sentence='[humming]'),\n",
       " MyLittleRelationship(index=39, who='Applejack', towards='Rarity', emotion='admiration', sentence=\"Wow, Rarity. It's a fine job you're doin' there. 'Course it might not get done 'til after the concert.\"),\n",
       " MyLittleRelationship(index=40, who='Rarity', towards='Applejack', emotion='excitement', sentence='Applejack, darling, anypony can do \"fine\". Twilight asked me, so clearly, she\\'s going for fabulous, and fabulous takes time.'),\n",
       " MyLittleRelationship(index=41, who='Rainbow Dash', towards='Rarity', emotion='excitement', sentence='Fabulous takes forever! But \"awesome\"...'),\n",
       " MyLittleRelationship(index=44, who='Rarity', towards='Rainbow Dash', emotion='disgust', sentence=\"Aah! Nono, oh no! Don't you dare, Rainbow Dash! It looks wretched enough already.\"),\n",
       " MyLittleRelationship(index=45, who='Rainbow Dash', towards='Rarity', emotion='approval', sentence=\"Oh come on, it's fine!\"),\n",
       " MyLittleRelationship(index=46, who='Rarity', towards='Rainbow Dash', emotion='sadness', sentence='If you were raised in a barn! Ahem, no offense, Applejack.'),\n",
       " MyLittleRelationship(index=47, who='Applejack', towards='Rarity', emotion='neutral', sentence=\"None taken. Especially since I wasn't raised in a barn. My family just happens to have a barn. Where I was born. And... spent most of my formative years...\"),\n",
       " MyLittleRelationship(index=48, who='Rainbow Dash', towards='Applejack', emotion='approval', sentence='[very quickly] Raised in a barn!'),\n",
       " MyLittleRelationship(index=49, who='Twilight Sparkle', towards='Rainbow Dash', emotion='approval', sentence=\"Okay, just two hundred and eighteen things left to do and we're ready.\"),\n",
       " MyLittleRelationship(index=52, who='Spike', towards='Rarity', emotion='neutral', sentence='Uh, hi, Rarity. Heh heh.'),\n",
       " MyLittleRelationship(index=53, who='Applejack', towards='Spike', emotion='curiosity', sentence=\"How'd it go with the other Princesses? They like your idea?\"),\n",
       " MyLittleRelationship(index=54, who='Pinkie Pie', towards='Applejack', emotion='love', sentence='I bet they loved it!'),\n",
       " MyLittleRelationship(index=55, who='Twilight Sparkle', towards='Pinkie Pie', emotion='neutral', sentence='[sighs] Not exactly. They think I can make today perfect without their magic.'),\n",
       " MyLittleRelationship(index=56, who='Rarity', towards='Twilight Sparkle', emotion='admiration', sentence=\"And they are absolutely right, darling. This festival is your brilliant idea and we know you're up to the task!\"),\n",
       " MyLittleRelationship(index=57, who='Twilight Sparkle', towards='Rarity', emotion='confusion', sentence=\"But what if I'm not?! What if Songbird Serenade hates the stage?! Or nopony makes a new friend?! And if I fail at the festival, then who am I?!\"),\n",
       " MyLittleRelationship(index=58, who='Pinkie Pie', towards='Twilight Sparkle', emotion='joy', sentence=\"Twilight, look at me! This will be the biggest celebration Equestria has ever seen! As the Princess of Friendship, you cannot fail! This day will define who you are! The pressure is intense! It's almost too much for any single pony to handle! [screams]\"),\n",
       " MyLittleRelationship(index=60, who='Rainbow Dash', towards='Pinkie Pie', emotion='neutral', sentence='[burps]'),\n",
       " MyLittleRelationship(index=61, who='Twilight Sparkle', towards='Rainbow Dash', emotion='surprise', sentence='Ah!'),\n",
       " MyLittleRelationship(index=63, who='Spike', towards='Twilight Sparkle', emotion='surprise', sentence='Whoa!'),\n",
       " MyLittleRelationship(index=64, who='Twilight Sparkle', towards='Spike', emotion='neutral', sentence='[gasps, yells, groans]'),\n",
       " MyLittleRelationship(index=66, who='Pinkie Pie', towards='Twilight Sparkle', emotion='realization', sentence='Oopsie! Guess my easy bake confetti cake cannon needs a little bit more fine tuning!'),\n",
       " MyLittleRelationship(index=67, who='Twilight Sparkle', towards='Pinkie Pie', emotion='neutral', sentence='[nickers] Hmmm...'),\n",
       " MyLittleRelationship(index=78, who='Rainbow Dash', towards='Twilight Sparkle', emotion='disapproval', sentence=\"Uh... I... don't think those are storm clouds.\"),\n",
       " MyLittleRelationship(index=79, who='Pinkie Pie', towards='Rainbow Dash', emotion='excitement', sentence='Ooh! I bet those are the clowns I ordered!'),\n",
       " MyLittleRelationship(index=87, who='Spike', towards='Twilight Sparkle', emotion='curiosity', sentence='I think so, but what happened to her horn?'),\n",
       " MyLittleRelationship(index=90, who='Twilight Sparkle', towards='Tempest Shadow', emotion='confusion', sentence=\"Hi there. Princess of Friendship. Not exactly sure what's going on, but I know we can talk things out.\"),\n",
       " MyLittleRelationship(index=91, who='Tempest Shadow', towards='Twilight Sparkle', emotion='excitement', sentence=\"Oh, goody. All four Princesses. Here's the deal, ladies. I need your magic. Give it up nicely, please, or we make it difficult for everyone!\"),\n",
       " MyLittleRelationship(index=94, who='Twilight Sparkle', towards='Tempest Shadow', emotion='neutral', sentence='[gasps]'),\n",
       " MyLittleRelationship(index=108, who='Tempest Shadow', towards='Twilight Sparkle', emotion='neutral', sentence='[chuckles]'),\n",
       " MyLittleRelationship(index=109, who='Rainbow Dash', towards='Tempest Shadow', emotion='fear', sentence='Twilight!'),\n",
       " MyLittleRelationship(index=110, who='Tempest Shadow', towards='Rainbow Dash', emotion='neutral', sentence='[chuckles] Easy as pie.'),\n",
       " MyLittleRelationship(index=115, who='Twilight Sparkle', towards='Applejack', emotion='neutral', sentence='Come on!'),\n",
       " MyLittleRelationship(index=123, who='Applejack', towards='Rarity', emotion='curiosity', sentence='Everypony okay?'),\n",
       " MyLittleRelationship(index=124, who='Rarity', towards='Applejack', emotion='neutral', sentence=\"I think my bottom's on backward.\"),\n",
       " MyLittleRelationship(index=125, who='Pinkie Pie', towards='Rarity', emotion='excitement', sentence='We just got our cupcakes handed to us by the worst party crasher ever!'),\n",
       " MyLittleRelationship(index=126, who='Rainbow Dash', towards='Pinkie Pie', emotion='anger', sentence='We gotta go back there and fight!'),\n",
       " MyLittleRelationship(index=127, who='Spike', towards='Rainbow Dash', emotion='curiosity', sentence='Well, you saw the size of those goons. You seriously wanna go back?'),\n",
       " MyLittleRelationship(index=128, who='Applejack', towards='Spike', emotion='realization', sentence=\"So now what? We can't hide here forever. And let's be honest, we can't go back. Look at what they did to the Princesses. We gotta keep them from Twilight.\"),\n",
       " MyLittleRelationship(index=129, who='Twilight Sparkle', towards='Applejack', emotion='neutral', sentence='The Queen.'),\n",
       " MyLittleRelationship(index=130, who='Pinkie Pie', towards='Twilight Sparkle', emotion='curiosity', sentence='Yeah, the Queen! Uh, what queen?'),\n",
       " MyLittleRelationship(index=131, who='Twilight Sparkle', towards='Pinkie Pie', emotion='neutral', sentence='Celestia told Luna to find the Queen of the... \"Hippos\". Luna can\\'t, so I have to.'),\n",
       " MyLittleRelationship(index=132, who='Rainbow Dash', towards='Twilight Sparkle', emotion='curiosity', sentence='Uh, hippos? Seriously?'),\n",
       " MyLittleRelationship(index=133, who='Pinkie Pie', towards='Rainbow Dash', emotion='surprise', sentence=\"I've heard they're surprisingly graceful for their size. Huh, but they're always hungry.\"),\n",
       " MyLittleRelationship(index=134, who='Spike', towards='Pinkie Pie', emotion='curiosity', sentence='Hungry?'),\n",
       " MyLittleRelationship(index=135, who='Applejack', towards='Spike', emotion='curiosity', sentence='Hippos?'),\n",
       " MyLittleRelationship(index=136, who='Twilight Sparkle', towards='Applejack', emotion='neutral', sentence=\"They're somewhere south, past the Badlands.\"),\n",
       " MyLittleRelationship(index=139, who='Twilight Sparkle', towards='Rarity', emotion='optimism', sentence=\"I understand you're scared, and nopony else has to go. But I have to find this queen. She might be our only hope.\"),\n",
       " MyLittleRelationship(index=140, who='Rainbow Dash', towards='Twilight Sparkle', emotion='disapproval', sentence=\"Well, you're not getting all the glory. We're in this together.\"),\n",
       " MyLittleRelationship(index=141, who='Applejack', towards='Rainbow Dash', emotion='neutral', sentence='We got your back.'),\n",
       " MyLittleRelationship(index=142, who='Pinkie Pie', towards='Applejack', emotion='approval', sentence='Indeedy!'),\n",
       " MyLittleRelationship(index=143, who='Rarity', towards='Pinkie Pie', emotion='desire', sentence='I am ready to save Equestria!'),\n",
       " MyLittleRelationship(index=146, who='Pinkie Pie', towards='Spike', emotion='neutral', sentence=\"Let's go find this hippo!\"),\n",
       " MyLittleRelationship(index=147, who='Spike', towards='Pinkie Pie', emotion='neutral', sentence='Uh, south?'),\n",
       " MyLittleRelationship(index=148, who='Pinkie Pie', towards='Spike', emotion='curiosity', sentence='Hehe! Whee! [giggles] Whee! Boingy-boingy-boingy-boingy-boingy! Anypony up for a game of \"I Spy\"?'),\n",
       " MyLittleRelationship(index=151, who='Tempest Shadow', towards='Pinkie Pie', emotion='neutral', sentence='All this power wasted on parties when there are far greater uses.'),\n",
       " MyLittleRelationship(index=181, who='Pinkie Pie', towards='Tempest Shadow', emotion='curiosity', sentence=\"[panting] There's sand in my... everything... Heh... Saving... Equestria... [demented laugh] Oh! Look! Maybe this guy knows which way to go! What's that, friend? We're lost? [demented laugh, coughs, faints]\"),\n",
       " MyLittleRelationship(index=184, who='Twilight Sparkle', towards='Spike', emotion='curiosity', sentence=\"Hmm? A road? Where there's a road, there's a... [gasps]\"),\n",
       " MyLittleRelationship(index=185, who='Spike', towards='Twilight Sparkle', emotion='surprise', sentence='Whoa!'),\n",
       " MyLittleRelationship(index=186, who='Rainbow Dash', towards='Spike', emotion='admiration', sentence='Cool!'),\n",
       " MyLittleRelationship(index=187, who='Applejack', towards='Rainbow Dash', emotion='curiosity', sentence='What is that?'),\n",
       " MyLittleRelationship(index=188, who='Pinkie Pie', towards='Applejack', emotion='neutral', sentence='Oooh! A city! [scoffs] We are doing it, you guys!'),\n",
       " MyLittleRelationship(index=189, who='Rarity', towards='Pinkie Pie', emotion='approval', sentence=\"where there's a city, there's a spa!\"),\n",
       " MyLittleRelationship(index=190, who='Rainbow Dash', towards='Rarity', emotion='curiosity', sentence='Who says that?'),\n",
       " MyLittleRelationship(index=191, who='Applejack', towards='Rainbow Dash', emotion='neutral', sentence=\"'Case you forgot, we're on a mission to save Equestria.\"),\n",
       " MyLittleRelationship(index=192, who='Rarity', towards='Applejack', emotion='neutral', sentence='I can multitask.'),\n",
       " MyLittleRelationship(index=206, who='Pinkie Pie', towards='Twilight Sparkle', emotion='curiosity', sentence='Can I have your attention please?!'),\n",
       " MyLittleRelationship(index=207, who='Twilight Sparkle', towards='Pinkie Pie', emotion='neutral', sentence='[groans]'),\n",
       " MyLittleRelationship(index=208, who='Pinkie Pie', towards='Twilight Sparkle', emotion='curiosity', sentence='Can anypony take us to the Queen of the Hippos?!'),\n",
       " MyLittleRelationship(index=214, who='Pinkie Pie', towards='Twilight Sparkle', emotion='excitement', sentence='Relax, Twilight! I totally got this!'),\n",
       " MyLittleRelationship(index=218, who='Twilight Sparkle', towards='Spike', emotion='neutral', sentence=\"Uh, Spike isn't for sale.\"),\n",
       " MyLittleRelationship(index=221, who='Twilight Sparkle', towards='Rarity', emotion='sadness', sentence='Heh?'),\n",
       " MyLittleRelationship(index=239, who='Spike', towards='Rarity', emotion='neutral', sentence='Huh!'),\n",
       " MyLittleRelationship(index=242, who='Twilight Sparkle', towards='Pinkie Pie', emotion='confusion', sentence=\"I don't know if we should trust him.\"),\n",
       " MyLittleRelationship(index=243, who='Pinkie Pie', towards='Twilight Sparkle', emotion='neutral', sentence='We could definitely use a friend out here!'),\n",
       " MyLittleRelationship(index=251, who='Rainbow Dash', towards='Pinkie Pie', emotion='surprise', sentence='Whoa!'),\n",
       " MyLittleRelationship(index=252, who='Applejack', towards='Rainbow Dash', emotion='neutral', sentence='[chuckles]'),\n",
       " MyLittleRelationship(index=282, who='Pinkie Pie', towards='Twilight Sparkle', emotion='curiosity', sentence='You mean the mountain right outside the window?'),\n",
       " MyLittleRelationship(index=292, who='Twilight Sparkle', towards='Rarity', emotion='approval', sentence='I knew it! We gotta get outta here!'),\n",
       " MyLittleRelationship(index=293, who='Tempest Shadow', towards='Twilight Sparkle', emotion='neutral', sentence='[chuckles evilly]'),\n",
       " MyLittleRelationship(index=294, who='Twilight Sparkle', towards='Tempest Shadow', emotion='neutral', sentence='[gasps]'),\n",
       " MyLittleRelationship(index=295, who='Tempest Shadow', towards='Twilight Sparkle', emotion='annoyance', sentence='Silly little ponies.'),\n",
       " MyLittleRelationship(index=296, who='Twilight Sparkle', towards='Tempest Shadow', emotion='neutral', sentence='Tempest!'),\n",
       " MyLittleRelationship(index=297, who='Spike', towards='Twilight Sparkle', emotion='neutral', sentence='[screams]'),\n",
       " MyLittleRelationship(index=304, who='Tempest Shadow', towards='Twilight Sparkle', emotion='neutral', sentence='Get her now!'),\n",
       " MyLittleRelationship(index=312, who='Rainbow Dash', towards='Twilight Sparkle', emotion='neutral', sentence='[grunting]'),\n",
       " MyLittleRelationship(index=313, who='Applejack', towards='Rainbow Dash', emotion='approval', sentence=\"That's it.\"),\n",
       " MyLittleRelationship(index=314, who='Rarity', towards='Applejack', emotion='neutral', sentence='[yelps]'),\n",
       " MyLittleRelationship(index=315, who='Applejack', towards='Rarity', emotion='caring', sentence=\"Don't look down now!\"),\n",
       " MyLittleRelationship(index=316, who='Spike', towards='Applejack', emotion='neutral', sentence='[yells]'),\n",
       " MyLittleRelationship(index=317, who='Pinkie Pie', towards='Spike', emotion='excitement', sentence='Yay!'),\n",
       " MyLittleRelationship(index=318, who='Spike', towards='Pinkie Pie', emotion='neutral', sentence='Dah!'),\n",
       " MyLittleRelationship(index=319, who='Pinkie Pie', towards='Spike', emotion='surprise', sentence='Woo! [screams]'),\n",
       " MyLittleRelationship(index=320, who='Twilight Sparkle', towards='Pinkie Pie', emotion='neutral', sentence='Pinkie!'),\n",
       " MyLittleRelationship(index=321, who='Pinkie Pie', towards='Twilight Sparkle', emotion='neutral', sentence='[screams]'),\n",
       " MyLittleRelationship(index=322, who='Twilight Sparkle', towards='Pinkie Pie', emotion='neutral', sentence='[pants, grunts]'),\n",
       " MyLittleRelationship(index=323, who='Pinkie Pie', towards='Twilight Sparkle', emotion='gratitude', sentence='Best... escape... plan... ever!'),\n",
       " MyLittleRelationship(index=324, who='Twilight Sparkle', towards='Pinkie Pie', emotion='curiosity', sentence='WHAT?! Thwa!'),\n",
       " MyLittleRelationship(index=325, who='Spike', towards='Twilight Sparkle', emotion='anger', sentence='Shh!'),\n",
       " MyLittleRelationship(index=340, who='Applejack', towards='Rainbow Dash', emotion='neutral', sentence=\"Whadaya think, Twilight? Should we just... ask 'em to take us?\"),\n",
       " MyLittleRelationship(index=341, who='Twilight Sparkle', towards='Applejack', emotion='neutral', sentence='Last time we trusted somepony, he tried to sell us!'),\n",
       " MyLittleRelationship(index=360, who='Rainbow Dash', towards='Twilight Sparkle', emotion='curiosity', sentence='Whoa, whoa, whoa! So you were about to toss us overboard and you stopped for a lunch break?'),\n",
       " MyLittleRelationship(index=370, who='Rainbow Dash', towards='Rarity', emotion='curiosity', sentence=\"You weren't always delivery birds, were you? What about before the Storm King?\"),\n",
       " MyLittleRelationship(index=373, who='Rainbow Dash', towards='Pinkie Pie', emotion='curiosity', sentence='Whoa! You used to be pirates?!'),\n",
       " MyLittleRelationship(index=379, who='Twilight Sparkle', towards='Rainbow Dash', emotion='disapproval', sentence=\"Rainbow Dash, this really isn't a good time for a—\"),\n",
       " MyLittleRelationship(index=384, who='Pinkie Pie', towards='Rainbow Dash', emotion='excitement', sentence='Rainboom! Rainboom! Rainboom! Rainboom!'),\n",
       " MyLittleRelationship(index=385, who='Twilight Sparkle', towards='Pinkie Pie', emotion='disapproval', sentence='No no no no no! No!'),\n",
       " MyLittleRelationship(index=386, who='Rainbow Dash', towards='Twilight Sparkle', emotion='approval', sentence='Aw, yeah! [laughs]'),\n",
       " MyLittleRelationship(index=402, who='Twilight Sparkle', towards='Rainbow Dash', emotion='curiosity', sentence='Are you kidding me?!'),\n",
       " MyLittleRelationship(index=413, who='Rainbow Dash', towards='Twilight Sparkle', emotion='caring', sentence=\"[whispering loudly] We helped them get their mojo back! They're not gonna give us up!\"),\n",
       " MyLittleRelationship(index=414, who='Rarity', towards='Rainbow Dash', emotion='neutral', sentence='[breathes loudly]'),\n",
       " MyLittleRelationship(index=417, who='Pinkie Pie', towards='Applejack', emotion='surprise', sentence='Whoa!'),\n",
       " MyLittleRelationship(index=418, who='Twilight Sparkle', towards='Pinkie Pie', emotion='neutral', sentence='[sighs]'),\n",
       " MyLittleRelationship(index=420, who='Tempest Shadow', towards='Twilight Sparkle', emotion='neutral', sentence=\"Now, I'm gonna count to three, and if you don't tell me where they are, your ship is going down. One...\"),\n",
       " MyLittleRelationship(index=421, who='Twilight Sparkle', towards='Tempest Shadow', emotion='neutral', sentence='Hold this!'),\n",
       " MyLittleRelationship(index=422, who='Rainbow Dash', towards='Twilight Sparkle', emotion='curiosity', sentence='What are you doing?!'),\n",
       " MyLittleRelationship(index=423, who='Tempest Shadow', towards='Rainbow Dash', emotion='neutral', sentence='...two...'),\n",
       " MyLittleRelationship(index=426, who='Pinkie Pie', towards='Tempest Shadow', emotion='neutral', sentence='[screams]'),\n",
       " MyLittleRelationship(index=427, who='Tempest Shadow', towards='Pinkie Pie', emotion='curiosity', sentence='What?'),\n",
       " MyLittleRelationship(index=430, who='Pinkie Pie', towards='Rarity', emotion='neutral', sentence='[screams, laughs] Whee!'),\n",
       " MyLittleRelationship(index=435, who='Rainbow Dash', towards='Pinkie Pie', emotion='neutral', sentence='Huh?'),\n",
       " MyLittleRelationship(index=436, who='Applejack', towards='Rainbow Dash', emotion='curiosity', sentence='What in the hay is she up to?'),\n",
       " MyLittleRelationship(index=437, who='Spike', towards='Applejack', emotion='neutral', sentence='[yelps] Huh? [breathes fire]'),\n",
       " MyLittleRelationship(index=442, who='Applejack', towards='Rarity', emotion='neutral', sentence=\"Phee-yew! Quick thinkin', Twilight!\"),\n",
       " MyLittleRelationship(index=443, who='Twilight Sparkle', towards='Applejack', emotion='amusement', sentence='Yahoo! Ha ha!'),\n",
       " MyLittleRelationship(index=444, who='Pinkie Pie', towards='Twilight Sparkle', emotion='joy', sentence='That was fun! Can we do it again?'),\n",
       " MyLittleRelationship(index=445, who='Rainbow Dash', towards='Pinkie Pie', emotion='neutral', sentence='Next stop, Mount Aris!'),\n",
       " MyLittleRelationship(index=446, who='Twilight Sparkle', towards='Rainbow Dash', emotion='neutral', sentence=\"We're home free!\"),\n",
       " MyLittleRelationship(index=454, who='Rarity', towards='Tempest Shadow', emotion='sadness', sentence=\"We had to crash the balloon at the bottom of the mountain! That's it! I simply... cannot... even! I have nothing! The bad guys have won! I'm so sorryyyyyyyy-y-y-y!\"),\n",
       " MyLittleRelationship(index=455, who='Rainbow Dash', towards='Rarity', emotion='excitement', sentence=\"We're almost there!\"),\n",
       " MyLittleRelationship(index=456, who='Rarity', towards='Rainbow Dash', emotion='neutral', sentence='[growls] Will you stop saying that?!'),\n",
       " MyLittleRelationship(index=457, who='Rainbow Dash', towards='Rarity', emotion='surprise', sentence=\"No, really! We're actually here!\"),\n",
       " MyLittleRelationship(index=458, who='Twilight Sparkle', towards='Rainbow Dash', emotion='excitement', sentence='[gasps] This is it!'),\n",
       " MyLittleRelationship(index=459, who='Pinkie Pie', towards='Twilight Sparkle', emotion='neutral', sentence='Ooh!'),\n",
       " MyLittleRelationship(index=460, who='Applejack', towards='Pinkie Pie', emotion='neutral', sentence=\"Well, I'll be. [laughs] Hippogriffs, here we come!\"),\n",
       " MyLittleRelationship(index=461, who='Rarity', towards='Applejack', emotion='neutral', sentence='[sighs] Time to rest my hooves!'),\n",
       " MyLittleRelationship(index=463, who='Applejack', towards='Rarity', emotion='neutral', sentence='Hello?! Is anypony home?!'),\n",
       " MyLittleRelationship(index=464, who='Pinkie Pie', towards='Applejack', emotion='disapproval', sentence='No Hippogriffies here! Or here! Or here! Or here or here or here! Waaaaaiiit! Nope! This place is emp-ty!'),\n",
       " MyLittleRelationship(index=465, who='Twilight Sparkle', towards='Pinkie Pie', emotion='neutral', sentence='But... Celestia... The map. They have to be here.'),\n",
       " MyLittleRelationship(index=466, who='Spike', towards='Twilight Sparkle', emotion='sadness', sentence='Something bad happened here. Something that turned this whole place into a ghost town.'),\n",
       " MyLittleRelationship(index=472, who='Twilight Sparkle', towards='Pinkie Pie', emotion='neutral', sentence='Pinkie!'),\n",
       " MyLittleRelationship(index=473, who='Pinkie Pie', towards='Twilight Sparkle', emotion='fear', sentence=\"[sputters] She's gone!\"),\n",
       " MyLittleRelationship(index=474, who='Twilight Sparkle', towards='Pinkie Pie', emotion='curiosity', sentence='Now what?'),\n",
       " MyLittleRelationship(index=475, who='Pinkie Pie', towards='Twilight Sparkle', emotion='neutral', sentence='Huh?'),\n",
       " MyLittleRelationship(index=482, who='Twilight Sparkle', towards='Pinkie Pie', emotion='neutral', sentence=\"I didn't make these bubbles!\"),\n",
       " MyLittleRelationship(index=526, who='Rarity', towards='Rainbow Dash', emotion='excitement', sentence='These fins are divine!'),\n",
       " MyLittleRelationship(index=527, who='Rainbow Dash', towards='Rarity', emotion='excitement', sentence=\"Hey, Applejack, I'll race ya to that coral!\"),\n",
       " MyLittleRelationship(index=528, who='Applejack', towards='Rainbow Dash', emotion='neutral', sentence=\"You're on!\"),\n",
       " MyLittleRelationship(index=529, who='Pinkie Pie', towards='Applejack', emotion='joy', sentence='Woo-hoo! [giggles] Ooh! Try it, Fluttershy!'),\n",
       " MyLittleRelationship(index=550, who='Pinkie Pie', towards='Rarity', emotion='neutral', sentence='[giggles]'),\n",
       " MyLittleRelationship(index=551, who='Rarity', towards='Pinkie Pie', emotion='love', sentence=\"That sounds lovely, darling, but you must realize, we can't stay.\"),\n",
       " MyLittleRelationship(index=552, who='Applejack', towards='Rarity', emotion='neutral', sentence=\"We've gotta get back to our families.\"),\n",
       " MyLittleRelationship(index=555, who='Applejack', towards='Pinkie Pie', emotion='neutral', sentence=\"Pinkie, we just don't have time for—\"),\n",
       " MyLittleRelationship(index=556, who='Twilight Sparkle', towards='Applejack', emotion='neutral', sentence=\"Oh, no. No no. Pinkie's right.\"),\n",
       " MyLittleRelationship(index=557, who='Rainbow Dash', towards='Twilight Sparkle', emotion='neutral', sentence='Say what now?'),\n",
       " MyLittleRelationship(index=558, who='Twilight Sparkle', towards='Rainbow Dash', emotion='joy', sentence=\"Well, we still need to come up with a plan to get back. A few minutes won't make a huge difference. And if there's anypony who can cram a lifetime of fun into a blink of an eye, it's Pinkie Pie!\"),\n",
       " MyLittleRelationship(index=559, who='Pinkie Pie', towards='Twilight Sparkle', emotion='neutral', sentence='[squee]'),\n",
       " MyLittleRelationship(index=560, who='Twilight Sparkle', towards='Pinkie Pie', emotion='neutral', sentence='So, go ahead and show Skystar the best time ever!'),\n",
       " MyLittleRelationship(index=561, who='Pinkie Pie', towards='Twilight Sparkle', emotion='caring', sentence=\"I won't let you down!\"),\n",
       " MyLittleRelationship(index=562, who='Twilight Sparkle', towards='Pinkie Pie', emotion='neutral', sentence=\"I'm counting on it.\"),\n",
       " MyLittleRelationship(index=583, who='Rarity', towards='Rainbow Dash', emotion='neutral', sentence='[gasping, faints]'),\n",
       " MyLittleRelationship(index=584, who='Applejack', towards='Rarity', emotion='curiosity', sentence=\"What were you thinkin'? I mean, stealin' their pearl?\"),\n",
       " MyLittleRelationship(index=585, who='Twilight Sparkle', towards='Applejack', emotion='neutral', sentence='[sighs] It was the only way to save Equestria.'),\n",
       " MyLittleRelationship(index=586, who='Pinkie Pie', towards='Twilight Sparkle', emotion='neutral', sentence=\"'Cept it wasn't! The Queen was going to say yes! We did what you told us and that's what made her realize we were ponies worth saving! [gasps] Unless... You didn't really want us to show her the best time ever! You just wanted us to distract her!\"),\n",
       " MyLittleRelationship(index=589, who='Pinkie Pie', towards='Twilight Sparkle', emotion='surprise', sentence='No, Twilight! We stuck together! We were gonna get the help we needed! The only thing that stopped us... was you!'),\n",
       " MyLittleRelationship(index=590, who='Twilight Sparkle', towards='Pinkie Pie', emotion='neutral', sentence=\"Well, I'm doing the best I can! It's all on me. I'm the one Tempest wants. I'm the last Princess!\"),\n",
       " MyLittleRelationship(index=591, who='Pinkie Pie', towards='Twilight Sparkle', emotion='annoyance', sentence=\"You're also the only one who doesn't trust her friends!\"),\n",
       " MyLittleRelationship(index=592, who='Twilight Sparkle', towards='Pinkie Pie', emotion='realization', sentence=\"Well, maybe, I would've been better off without friends like YOU!\"),\n",
       " MyLittleRelationship(index=593, who='Pinkie Pie', towards='Twilight Sparkle', emotion='neutral', sentence='[gasps]'),\n",
       " MyLittleRelationship(index=596, who='Pinkie Pie', towards='Twilight Sparkle', emotion='neutral', sentence=\"[sniffles] I just can't talk to you right now.\"),\n",
       " MyLittleRelationship(index=597, who='Spike', towards='Pinkie Pie', emotion='caring', sentence=\"Twilight? It's okay. You'll figure it out.\"),\n",
       " MyLittleRelationship(index=598, who='Twilight Sparkle', towards='Spike', emotion='sadness', sentence=\"[tearfully] No! [sobs] I can't. I ruined everything! [sobs quietly] There's no chance to save Equestria now. [whimpers] It's all my fault! [weeps] Spike? [gasps]\"),\n",
       " MyLittleRelationship(index=599, who='Spike', towards='Twilight Sparkle', emotion='fear', sentence='[muffled] Twilight, look out!'),\n",
       " MyLittleRelationship(index=600, who='Twilight Sparkle', towards='Spike', emotion='neutral', sentence='[screams, gasps] No, no, no, no, no! Noooooo!'),\n",
       " MyLittleRelationship(index=601, who='Spike', towards='Twilight Sparkle', emotion='fear', sentence='[muffled] Twilight, help me!'),\n",
       " MyLittleRelationship(index=602, who='Twilight Sparkle', towards='Spike', emotion='excitement', sentence='Spiiiiiike!!!'),\n",
       " MyLittleRelationship(index=603, who='Spike', towards='Twilight Sparkle', emotion='excitement', sentence='Twiliiiiiight!!!'),\n",
       " MyLittleRelationship(index=604, who='Twilight Sparkle', towards='Spike', emotion='neutral', sentence='[struggles]'),\n",
       " MyLittleRelationship(index=607, who='Tempest Shadow', towards='Twilight Sparkle', emotion='neutral', sentence='Aww, the \"Princess of Friendship\". With no friends! [chuckles] And no way out.'),\n",
       " MyLittleRelationship(index=608, who='Twilight Sparkle', towards='Tempest Shadow', emotion='curiosity', sentence=\"Why are you doing this? You're a pony! Just like me.\"),\n",
       " MyLittleRelationship(index=610, who='Tempest Shadow', towards='Twilight Sparkle', emotion='anger', sentence=\"I'm nothing like you! I'm more than you'll ever be!\"),\n",
       " MyLittleRelationship(index=611, who='Twilight Sparkle', towards='Tempest Shadow', emotion='remorse', sentence=\"I'm so sorry you felt so alone.\"),\n",
       " MyLittleRelationship(index=612, who='Tempest Shadow', towards='Twilight Sparkle', emotion='realization', sentence='I saw the truth. My \"friends\" abandoned me when times got tough. Looks like I\\'m not the only one. Face it, Princess. Friendship has failed you, too.'),\n",
       " MyLittleRelationship(index=613, who='Twilight Sparkle', towards='Tempest Shadow', emotion='disappointment', sentence=\"Friendship didn't fail me. I failed friendship.\"),\n",
       " MyLittleRelationship(index=616, who='Spike', towards='Applejack', emotion='neutral', sentence=\"She's! Been! Taken!!!\"),\n",
       " MyLittleRelationship(index=617, who='Rainbow Dash', towards='Spike', emotion='curiosity', sentence='What?!'),\n",
       " MyLittleRelationship(index=618, who='Spike', towards='Rainbow Dash', emotion='neutral', sentence=\"[panting] Twilight's been taken! Tempest! She grabbed her! And took her on her ship!\"),\n",
       " MyLittleRelationship(index=652, who='Tempest Shadow', towards='Twilight Sparkle', emotion='love', sentence=\"Your magic? Did you think you'd keep it all to yourself? Time to share. I'd love for everybody out there to know what I can really do.\"),\n",
       " MyLittleRelationship(index=675, who='Pinkie Pie', towards='Applejack', emotion='surprise', sentence='[quietly] Oh! Okay! [whimpers]'),\n",
       " MyLittleRelationship(index=687, who='Rarity', towards='Applejack', emotion='love', sentence='Lovely!'),\n",
       " MyLittleRelationship(index=688, who='Pinkie Pie', towards='Rarity', emotion='surprise', sentence='Surprise!'),\n",
       " MyLittleRelationship(index=711, who='Twilight Sparkle', towards='Tempest Shadow', emotion='neutral', sentence=\"[gasps] It's... It's the Magic of...\"),\n",
       " MyLittleRelationship(index=719, who='Rainbow Dash', towards='Rarity', emotion='neutral', sentence=\"You'd have to be flying faster than a speeding Pegasus to break through that wind!\"),\n",
       " MyLittleRelationship(index=720, who='Pinkie Pie', towards='Rainbow Dash', emotion='admiration', sentence='[gasps] Excellent idea, Rainbow Dash!'),\n",
       " MyLittleRelationship(index=733, who='Twilight Sparkle', towards='Tempest Shadow', emotion='caring', sentence='Hold on!'),\n",
       " MyLittleRelationship(index=734, who='Tempest Shadow', towards='Twilight Sparkle', emotion='curiosity', sentence='Why are you saving me?'),\n",
       " MyLittleRelationship(index=735, who='Twilight Sparkle', towards='Tempest Shadow', emotion='neutral', sentence='Because this is what friends do.'),\n",
       " MyLittleRelationship(index=745, who='Twilight Sparkle', towards='Pinkie Pie', emotion='remorse', sentence=\"Pinkie! You all came back! I'm so sorry! I was wrong to—\"),\n",
       " MyLittleRelationship(index=746, who='Pinkie Pie', towards='Twilight Sparkle', emotion='remorse', sentence=\"I'm sorry, too. Friends mess up sometimes, but we never should've—\"),\n",
       " MyLittleRelationship(index=747, who='Rainbow Dash', towards='Pinkie Pie', emotion='neutral', sentence=\"Uh, make up later! This isn't over!\"),\n",
       " MyLittleRelationship(index=750, who='Twilight Sparkle', towards='Tempest Shadow', emotion='neutral', sentence=\"[grunts, gasps] I've gotta get control of it!\"),\n",
       " MyLittleRelationship(index=751, who='Pinkie Pie', towards='Twilight Sparkle', emotion='fear', sentence=\"Go! You've got this, Twilight!\"),\n",
       " MyLittleRelationship(index=752, who='Twilight Sparkle', towards='Pinkie Pie', emotion='realization', sentence=\"No. We've got this. Together.\"),\n",
       " MyLittleRelationship(index=753, who='Pinkie Pie', towards='Twilight Sparkle', emotion='neutral', sentence='Whee!'),\n",
       " MyLittleRelationship(index=765, who='Twilight Sparkle', towards='Applejack', emotion='disapproval', sentence='No!'),\n",
       " MyLittleRelationship(index=771, who='Applejack', towards='Pinkie Pie', emotion='caring', sentence='Yee-haw! [laughs] All right!'),\n",
       " MyLittleRelationship(index=774, who='Twilight Sparkle', towards='Pinkie Pie', emotion='neutral', sentence='[sighs]'),\n",
       " MyLittleRelationship(index=779, who='Rainbow Dash', towards='Tempest Shadow', emotion='surprise', sentence=\"Whoa! I can't believe she did that!\"),\n",
       " MyLittleRelationship(index=780, who='Twilight Sparkle', towards='Rainbow Dash', emotion='neutral', sentence='I can.'),\n",
       " MyLittleRelationship(index=781, who='Tempest Shadow', towards='Twilight Sparkle', emotion='neutral', sentence='[gasps]'),\n",
       " MyLittleRelationship(index=799, who='Twilight Sparkle', towards='Tempest Shadow', emotion='optimism', sentence=\"Well, I hope you'll stay. More friends are definitely merrier.\"),\n",
       " MyLittleRelationship(index=800, who='Tempest Shadow', towards='Twilight Sparkle', emotion='neutral', sentence='[sighs] But, um... my horn.'),\n",
       " MyLittleRelationship(index=801, who='Twilight Sparkle', towards='Tempest Shadow', emotion='admiration', sentence='You know, your horn is pretty powerful, just like the pony it belongs to.'),\n",
       " MyLittleRelationship(index=802, who='Tempest Shadow', towards='Twilight Sparkle', emotion='curiosity', sentence='I did tell you I wanted to show everypony in Equestria what I could do, right?'),\n",
       " MyLittleRelationship(index=803, who='Pinkie Pie', towards='Tempest Shadow', emotion='admiration', sentence='Nice touch, Tempest!'),\n",
       " MyLittleRelationship(index=804, who='Tempest Shadow', towards='Pinkie Pie', emotion='neutral', sentence=\"Actually, that's not my real name.\"),\n",
       " MyLittleRelationship(index=805, who='Pinkie Pie', towards='Tempest Shadow', emotion='curiosity', sentence='Oooh! What is it?!'),\n",
       " MyLittleRelationship(index=806, who='Tempest Shadow', towards='Pinkie Pie', emotion='neutral', sentence='[quietly] It\\'s \"Fizzlepop Berrytwist\".'),\n",
       " MyLittleRelationship(index=807, who='Pinkie Pie', towards='Tempest Shadow', emotion='admiration', sentence='[gasps] Okay! That is the most awesome name ever!')]"
      ]
     },
     "execution_count": 25,
     "metadata": {},
     "output_type": "execute_result"
    }
   ],
   "source": [
    "relationships"
   ]
  },
  {
   "cell_type": "code",
   "execution_count": null,
   "metadata": {},
   "outputs": [],
   "source": [
    "# now we analyze the most frequent relationships and their emotion"
   ]
  },
  {
   "cell_type": "code",
   "execution_count": 38,
   "metadata": {},
   "outputs": [],
   "source": [
    "from collections import Counter\n",
    "rel_counter = Counter([(mlr.who,mlr.towards,mlr.emotion) for mlr in relationships])"
   ]
  },
  {
   "cell_type": "code",
   "execution_count": 39,
   "metadata": {},
   "outputs": [
    {
     "data": {
      "text/plain": [
       "[(('Twilight Sparkle', 'Pinkie Pie', 'neutral'), 14),\n",
       " (('Tempest Shadow', 'The Storm King', 'neutral'), 9),\n",
       " (('Pinkie Pie', 'Twilight Sparkle', 'neutral'), 9),\n",
       " (('Twilight Sparkle', 'Tempest Shadow', 'neutral'), 7),\n",
       " (('Tempest Shadow', 'Twilight Sparkle', 'neutral'), 7),\n",
       " (('Twilight Sparkle', 'The Storm King', 'neutral'), 7),\n",
       " (('Twilight Sparkle', 'Applejack', 'neutral'), 6),\n",
       " (('Twilight Sparkle', 'Spike', 'neutral'), 5),\n",
       " (('Applejack', 'Rainbow Dash', 'neutral'), 5),\n",
       " (('The Storm King', 'Tempest Shadow', 'neutral'), 5),\n",
       " (('Rarity', 'Rainbow Dash', 'neutral'), 4),\n",
       " (('Applejack', 'Rarity', 'neutral'), 4),\n",
       " (('Rainbow Dash', 'Pinkie Pie', 'neutral'), 4),\n",
       " (('Rarity', 'Applejack', 'neutral'), 4),\n",
       " (('Pinkie Pie', 'Twilight Sparkle', 'curiosity'), 4),\n",
       " (('The Storm King', 'Tempest Shadow', 'curiosity'), 4),\n",
       " (('The Storm King', 'Twilight Sparkle', 'neutral'), 4),\n",
       " (('Spike', 'Twilight Sparkle', 'neutral'), 3),\n",
       " (('Rainbow Dash', 'Rarity', 'excitement'), 3),\n",
       " (('Rainbow Dash', 'Twilight Sparkle', 'curiosity'), 3)]"
      ]
     },
     "execution_count": 39,
     "metadata": {},
     "output_type": "execute_result"
    }
   ],
   "source": [
    "rel_counter.most_common(20)"
   ]
  },
  {
   "cell_type": "code",
   "execution_count": 43,
   "metadata": {},
   "outputs": [
    {
     "name": "stdout",
     "output_type": "stream",
     "text": [
      "MyLittleRelationship(index=154, who='Tempest Shadow', towards='The Storm King', emotion='admiration', sentence='Over here, Your Excellency.')\n",
      "MyLittleRelationship(index=156, who='Tempest Shadow', towards='The Storm King', emotion='neutral', sentence='Over here.')\n",
      "MyLittleRelationship(index=158, who='Tempest Shadow', towards='The Storm King', emotion='neutral', sentence='No. No, right. Look right.')\n",
      "MyLittleRelationship(index=160, who='Tempest Shadow', towards='The Storm King', emotion='approval', sentence='Yep.')\n",
      "MyLittleRelationship(index=162, who='Tempest Shadow', towards='The Storm King', emotion='admiration', sentence='Uh, that would be the Staff of Sacanas, Your Excellency, and it will...')\n",
      "MyLittleRelationship(index=164, who='Tempest Shadow', towards='The Storm King', emotion='neutral', sentence='...channel the magic of the four rulers of this land.')\n",
      "MyLittleRelationship(index=166, who='Tempest Shadow', towards='The Storm King', emotion='excitement', sentence=\"You'll soon have the power of a hundred armies.\")\n",
      "MyLittleRelationship(index=168, who='Tempest Shadow', towards='The Storm King', emotion='excitement', sentence=\"Give me three days. I'll have everything ready for your arrival.\")\n",
      "MyLittleRelationship(index=170, who='Tempest Shadow', towards='The Storm King', emotion='approval', sentence=\"It won't be a problem.\")\n",
      "MyLittleRelationship(index=656, who='Twilight Sparkle', towards='The Storm King', emotion='neutral', sentence=\"I'm the Princess of Friendship!\")\n",
      "MyLittleRelationship(index=658, who='Tempest Shadow', towards='The Storm King', emotion='neutral', sentence=\"She and her friends put up a bit of a fight, but she's alone now. She won't be a problem.\")\n",
      "MyLittleRelationship(index=661, who='Twilight Sparkle', towards='The Storm King', emotion='surprise', sentence='[struggling] No!')\n",
      "MyLittleRelationship(index=663, who='Twilight Sparkle', towards='The Storm King', emotion='neutral', sentence='[gasps]')\n",
      "MyLittleRelationship(index=665, who='Twilight Sparkle', towards='The Storm King', emotion='neutral', sentence='[yelps]')\n",
      "MyLittleRelationship(index=667, who='Tempest Shadow', towards='The Storm King', emotion='admiration', sentence='Your Excellency, you promised to restore my horn and give me—')\n",
      "MyLittleRelationship(index=670, who='Spike', towards='The Storm King', emotion='neutral', sentence='[breathing fire]')\n",
      "MyLittleRelationship(index=722, who='Tempest Shadow', towards='The Storm King', emotion='neutral', sentence='Yes, yes, you are every bit as powerful as I promised, Sire, now, restore my horn and I swear to use my magic to serve you!')\n",
      "MyLittleRelationship(index=724, who='Tempest Shadow', towards='The Storm King', emotion='approval', sentence='But... we... we had an agreement!')\n",
      "MyLittleRelationship(index=726, who='Tempest Shadow', towards='The Storm King', emotion='neutral', sentence='[yelps]')\n",
      "MyLittleRelationship(index=728, who='Tempest Shadow', towards='The Storm King', emotion='neutral', sentence='[yelps]')\n",
      "MyLittleRelationship(index=730, who='Twilight Sparkle', towards='The Storm King', emotion='neutral', sentence='[gasps]')\n",
      "MyLittleRelationship(index=732, who='Tempest Shadow', towards='The Storm King', emotion='neutral', sentence='[gasps, grunts]')\n",
      "MyLittleRelationship(index=744, who='Pinkie Pie', towards='The Storm King', emotion='neutral', sentence=\"[weakly] Bull's-eye!\")\n",
      "MyLittleRelationship(index=755, who='Twilight Sparkle', towards='The Storm King', emotion='neutral', sentence='[gasps]')\n",
      "MyLittleRelationship(index=760, who='Twilight Sparkle', towards='The Storm King', emotion='neutral', sentence='[grunting]')\n",
      "MyLittleRelationship(index=762, who='Twilight Sparkle', towards='The Storm King', emotion='neutral', sentence='[grunting]')\n",
      "MyLittleRelationship(index=764, who='Applejack', towards='The Storm King', emotion='surprise', sentence='Whoa!')\n",
      "MyLittleRelationship(index=776, who='Tempest Shadow', towards='The Storm King', emotion='neutral', sentence='[gasps]')\n",
      "MyLittleRelationship(index=778, who='Tempest Shadow', towards='The Storm King', emotion='surprise', sentence='Nooo!!')\n"
     ]
    }
   ],
   "source": [
    "who = \"Rainbow Dash\"\n",
    "towards = \"The Storm King\"\n",
    "emotion = \"excitement\"\n",
    "for mlr in relationships:\n",
    "    if mlr.towards == towards:\n",
    "        print(mlr)"
   ]
  }
 ],
 "metadata": {
  "kernelspec": {
   "display_name": "ferrara-v9C_kj3N",
   "language": "python",
   "name": "python3"
  },
  "language_info": {
   "codemirror_mode": {
    "name": "ipython",
    "version": 3
   },
   "file_extension": ".py",
   "mimetype": "text/x-python",
   "name": "python",
   "nbconvert_exporter": "python",
   "pygments_lexer": "ipython3",
   "version": "3.10.6"
  },
  "orig_nbformat": 4
 },
 "nbformat": 4,
 "nbformat_minor": 2
}
